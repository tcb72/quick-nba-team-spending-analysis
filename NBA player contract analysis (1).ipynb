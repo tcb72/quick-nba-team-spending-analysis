{
 "cells": [
  {
   "cell_type": "markdown",
   "metadata": {},
   "source": [
    "Import relevant/needed packages"
   ]
  },
  {
   "cell_type": "code",
   "execution_count": 2,
   "metadata": {},
   "outputs": [],
   "source": [
    "import pandas as pd\n",
    "import numpy as np\n",
    "import seaborn as sns\n",
    "from bs4 import BeautifulSoup as bs\n",
    "import matplotlib.pyplot as plt\n",
    "from scipy import stats\n",
    "import requests\n",
    "import re"
   ]
  },
  {
   "cell_type": "markdown",
   "metadata": {},
   "source": [
    "First we need to scrape player contract data from basketball-reference using BeautifulSoup"
   ]
  },
  {
   "cell_type": "code",
   "execution_count": 37,
   "metadata": {},
   "outputs": [],
   "source": [
    "url = 'https://www.basketball-reference.com/contracts/players.html'\n",
    "page = requests.get(url)\n",
    "soup = bs(page.content, 'html.parser')\n",
    "\n",
    "raw_players = soup.find('table', class_ = 'sortable stats_table').findAll('a')\n",
    "raw_salaries = soup.find('table', class_ = 'sortable stats_table').findAll('td', class_='right')\n",
    "test =  soup.find('table', class_ = 'sortable stats_table').findAll('href')"
   ]
  },
  {
   "cell_type": "markdown",
   "metadata": {},
   "source": [
    "The resulting salary will have '$' and ',' characters in it, so lets get rid of those and convert the salary into a float. "
   ]
  },
  {
   "cell_type": "code",
   "execution_count": 38,
   "metadata": {},
   "outputs": [],
   "source": [
    "parsed_salaries = []\n",
    "parsed_players = []\n",
    "parsed_teams = []\n",
    "for salary in raw_salaries:\n",
    "    if 'y1' in str(salary):\n",
    "        parsed_salaries.append(float(salary.getText().strip('$').replace(',', '')))"
   ]
  },
  {
   "cell_type": "markdown",
   "metadata": {},
   "source": [
    "Instantiate a pandas dataframe to hold our scraped info. "
   ]
  },
  {
   "cell_type": "code",
   "execution_count": 39,
   "metadata": {},
   "outputs": [],
   "source": [
    "player_salaries = pd.DataFrame()"
   ]
  },
  {
   "cell_type": "markdown",
   "metadata": {},
   "source": [
    "When we display \"raw_players\", it comes out as such:\n",
    "\n",
    "Stephen Curry\n",
    "\n",
    "GSW\n",
    "\n",
    "LeBron James\n",
    "\n",
    "CLE\n",
    "\n",
    "So I separate the player and team into different arrays based on the counter value and using the mod operator. "
   ]
  },
  {
   "cell_type": "code",
   "execution_count": 40,
   "metadata": {},
   "outputs": [],
   "source": [
    "for counter, player in enumerate(raw_players):\n",
    "    if counter % 2 == 0:\n",
    "        parsed_players.append(player.getText())\n",
    "    else:\n",
    "        parsed_teams.append(player.getText())"
   ]
  },
  {
   "cell_type": "markdown",
   "metadata": {},
   "source": [
    "The URL stems are in some lines within the raw_players array. So I just say if the text '/players/' is in the line, store it in the url_stems array. Usually the stem is characters 9 to 34, but it is slightly shorter for players with short last names. I get rid of any unnecessary characters by using strip(). "
   ]
  },
  {
   "cell_type": "code",
   "execution_count": 41,
   "metadata": {},
   "outputs": [],
   "source": [
    "url_stems = []\n",
    "for url_stem in raw_players:\n",
    "    if 'href=\\\"/players/' in str(url_stem):\n",
    "        url_stems.append(str(url_stem)[9:34].strip('Z').strip('>').strip('\"'))"
   ]
  },
  {
   "cell_type": "markdown",
   "metadata": {},
   "source": [
    "Lets store everything into our dataframe, and see what it looks like. "
   ]
  },
  {
   "cell_type": "code",
   "execution_count": 42,
   "metadata": {},
   "outputs": [
    {
     "data": {
      "text/html": [
       "<div>\n",
       "<style scoped>\n",
       "    .dataframe tbody tr th:only-of-type {\n",
       "        vertical-align: middle;\n",
       "    }\n",
       "\n",
       "    .dataframe tbody tr th {\n",
       "        vertical-align: top;\n",
       "    }\n",
       "\n",
       "    .dataframe thead th {\n",
       "        text-align: right;\n",
       "    }\n",
       "</style>\n",
       "<table border=\"1\" class=\"dataframe\">\n",
       "  <thead>\n",
       "    <tr style=\"text-align: right;\">\n",
       "      <th></th>\n",
       "      <th>Player</th>\n",
       "      <th>Team</th>\n",
       "      <th>Salary</th>\n",
       "      <th>url_stem</th>\n",
       "    </tr>\n",
       "  </thead>\n",
       "  <tbody>\n",
       "    <tr>\n",
       "      <th>0</th>\n",
       "      <td>Stephen Curry</td>\n",
       "      <td>GSW</td>\n",
       "      <td>34682550.0</td>\n",
       "      <td>/players/c/curryst01.html</td>\n",
       "    </tr>\n",
       "    <tr>\n",
       "      <th>1</th>\n",
       "      <td>LeBron James</td>\n",
       "      <td>CLE</td>\n",
       "      <td>33285709.0</td>\n",
       "      <td>/players/j/jamesle01.html</td>\n",
       "    </tr>\n",
       "    <tr>\n",
       "      <th>2</th>\n",
       "      <td>Paul Millsap</td>\n",
       "      <td>DEN</td>\n",
       "      <td>31269231.0</td>\n",
       "      <td>/players/m/millspa01.html</td>\n",
       "    </tr>\n",
       "    <tr>\n",
       "      <th>3</th>\n",
       "      <td>Gordon Hayward</td>\n",
       "      <td>BOS</td>\n",
       "      <td>29727900.0</td>\n",
       "      <td>/players/h/haywago01.html</td>\n",
       "    </tr>\n",
       "    <tr>\n",
       "      <th>4</th>\n",
       "      <td>Blake Griffin</td>\n",
       "      <td>DET</td>\n",
       "      <td>29512900.0</td>\n",
       "      <td>/players/g/griffbl01.html</td>\n",
       "    </tr>\n",
       "  </tbody>\n",
       "</table>\n",
       "</div>"
      ],
      "text/plain": [
       "           Player Team      Salary                   url_stem\n",
       "0   Stephen Curry  GSW  34682550.0  /players/c/curryst01.html\n",
       "1    LeBron James  CLE  33285709.0  /players/j/jamesle01.html\n",
       "2    Paul Millsap  DEN  31269231.0  /players/m/millspa01.html\n",
       "3  Gordon Hayward  BOS  29727900.0  /players/h/haywago01.html\n",
       "4   Blake Griffin  DET  29512900.0  /players/g/griffbl01.html"
      ]
     },
     "execution_count": 42,
     "metadata": {},
     "output_type": "execute_result"
    }
   ],
   "source": [
    "player_salaries['Player'] = parsed_players\n",
    "player_salaries['Team'] = parsed_teams\n",
    "player_salaries['Salary'] = parsed_salaries\n",
    "player_salaries['url_stem'] = url_stems\n",
    "\n",
    "player_salaries.head()"
   ]
  },
  {
   "cell_type": "markdown",
   "metadata": {},
   "source": [
    "Lets plot a histogram of player salaries throughout the NBA. "
   ]
  },
  {
   "cell_type": "code",
   "execution_count": 43,
   "metadata": {},
   "outputs": [
    {
     "data": {
      "image/png": "[encoded data removed]",
      "text/plain": [
       "<matplotlib.figure.Figure at 0x13fef00dd68>"
      ]
     },
     "metadata": {},
     "output_type": "display_data"
    },
    {
     "data": {
      "text/plain": [
       "count    5.510000e+02\n",
       "mean     6.086612e+06\n",
       "std      7.210965e+06\n",
       "min      1.722400e+04\n",
       "25%      1.312611e+06\n",
       "50%      2.550000e+06\n",
       "75%      8.425512e+06\n",
       "max      3.468255e+07\n",
       "Name: Salary, dtype: float64"
      ]
     },
     "execution_count": 43,
     "metadata": {},
     "output_type": "execute_result"
    }
   ],
   "source": [
    "plt.figure(figsize=(15,10))\n",
    "\n",
    "ax = sns.distplot(player_salaries.Salary,kde=False)\n",
    "ax.set(xlabel='Salary (in tens of millions)', ylabel='# of players')\n",
    "ax.set_xlim([0, 4e7])\n",
    "plt.savefig(\"NBA_player_salary_distribution\")\n",
    "\n",
    "plt.show()\n",
    "\n",
    "player_salaries.Salary.describe()"
   ]
  },
  {
   "cell_type": "markdown",
   "metadata": {},
   "source": [
    "Heavy right tailed distribution. The mean salary is ~6 million, yet the median is only 2.5 million. The Stephen Curry and Lebron James' of the world are driving the mean upwards. \n",
    "\n",
    "Lets see what each team is paying out this year to their players. "
   ]
  },
  {
   "cell_type": "code",
   "execution_count": 74,
   "metadata": {},
   "outputs": [
    {
     "data": {
      "image/png": "[encoded data removed]",
      "text/plain": [
       "<matplotlib.figure.Figure at 0x1ed441a3e10>"
      ]
     },
     "metadata": {},
     "output_type": "display_data"
    }
   ],
   "source": [
    "plt.figure(figsize=(15,10))\n",
    "ax = sns.boxplot(x='Team',y='Salary', data=player_salaries)\n",
    "ax.set(xlabel='Team', ylabel='Salary (in tens of millions)')\n",
    "plt.savefig(\"NBA_player_salary_distribution_by_team\")\n",
    "plt.show()"
   ]
  },
  {
   "cell_type": "markdown",
   "metadata": {},
   "source": [
    "As we saw in the previous histogram, there's a lot of outliers on the upper-end of the salary spectrum. We see most players on a team getting relatively the same amount, but a few who are getting significantly higher salaries. \n",
    "\n"
   ]
  },
  {
   "cell_type": "markdown",
   "metadata": {},
   "source": [
    "Importing current standings (wins, losses)"
   ]
  },
  {
   "cell_type": "code",
   "execution_count": 13,
   "metadata": {},
   "outputs": [],
   "source": [
    "standings = pd.read_csv('nbastandings.csv')"
   ]
  },
  {
   "cell_type": "markdown",
   "metadata": {},
   "source": [
    "Storing each team's total salary output. "
   ]
  },
  {
   "cell_type": "code",
   "execution_count": 76,
   "metadata": {},
   "outputs": [],
   "source": [
    "team_total_salary = player_salaries.groupby(['Team'],as_index=False).sum()"
   ]
  },
  {
   "cell_type": "markdown",
   "metadata": {},
   "source": [
    "Add wins, losses, and win percentage to the dataframe. Also, I sort the dataframe so the plot comes out in order from \"best\" spending efficiency to \"worst\". "
   ]
  },
  {
   "cell_type": "code",
   "execution_count": 77,
   "metadata": {},
   "outputs": [],
   "source": [
    "team_wins = []\n",
    "team_losses = []\n",
    "team_win_percent = []\n",
    "for counter,i in enumerate(team_total_salary.Team):\n",
    "    for counter2, j in enumerate(standings.Team):\n",
    "        if j in i:\n",
    "            team_wins.append(standings.Win[counter2])\n",
    "            team_losses.append(standings.Loss[counter2])\n",
    "            team_win_percent.append(standings.WinPercent[counter2])"
   ]
  },
  {
   "cell_type": "code",
   "execution_count": 78,
   "metadata": {},
   "outputs": [],
   "source": [
    "team_total_salary['Wins'] = team_wins\n",
    "team_total_salary['Losses'] = team_losses\n",
    "team_total_salary['WinPercent'] = team_win_percent\n",
    "team_total_salary['SalaryWinPercent'] = team_total_salary['Salary']/team_total_salary['WinPercent']\n",
    "team_total_salary['SalaryWin'] = team_total_salary['Salary']/team_total_salary['Wins']\n",
    "team_total_salary = team_total_salary.sort_values(by='SalaryWinPercent')"
   ]
  },
  {
   "cell_type": "markdown",
   "metadata": {},
   "source": [
    "First, I'm plotting each teams Salary divided by their win percentage. I use win percentage because some teams have played more games than others thus far into the season, so its acts as a standardization. A lower value is better, but it doesn't really have physical meaning. "
   ]
  },
  {
   "cell_type": "code",
   "execution_count": 79,
   "metadata": {},
   "outputs": [
    {
     "data": {
      "image/png": "[encoded data removed]",
      "text/plain": [
       "<matplotlib.figure.Figure at 0x1ed418ac9e8>"
      ]
     },
     "metadata": {},
     "output_type": "display_data"
    }
   ],
   "source": [
    "plt.figure(figsize=(15,10))\n",
    "ax = sns.barplot(x=team_total_salary['Team'], y=team_total_salary['SalaryWinPercent'])\n",
    "ax.set(xlabel='Team', ylabel='$/(Win/Loss), smaller is better')\n",
    "plt.savefig('salaryperwinpercent')\n",
    "plt.show()"
   ]
  },
  {
   "cell_type": "markdown",
   "metadata": {},
   "source": [
    "For the most part, it seems like the best teams come out on top. Some notable exceptions are IND, PHI, DEN, and NOP, which are better than expected. \n",
    "\n",
    "If we want some physical meaning that I could explain to a larger audience, lets answer the question \"how many dollars is a team spending on their players per win?\" "
   ]
  },
  {
   "cell_type": "code",
   "execution_count": 81,
   "metadata": {},
   "outputs": [
    {
     "data": {
      "image/png": "[encoded data removed]",
      "text/plain": [
       "<matplotlib.figure.Figure at 0x1ed4181dd68>"
      ]
     },
     "metadata": {},
     "output_type": "display_data"
    }
   ],
   "source": [
    "team_total_salary = team_total_salary.sort_values(by='SalaryWin')\n",
    "plt.figure(figsize=(15,10))\n",
    "ax = sns.barplot(x=team_total_salary['Team'], y=team_total_salary['Salary']/team_total_salary['Wins'])\n",
    "ax.set(xlabel='Team', ylabel='$ per Win, smaller is better')\n",
    "plt.savefig('salaryperwin')\n",
    "plt.show()"
   ]
  },
  {
   "cell_type": "markdown",
   "metadata": {},
   "source": [
    "Very similar result. \n",
    "\n",
    "Houston spends nearly 3.5 mil LESS to get a win compared to Memphis. That is a massive discrepancy and speaks to the dysfunction we see in Memphis this season (considering how decent they were last season). "
   ]
  },
  {
   "cell_type": "code",
   "execution_count": null,
   "metadata": {},
   "outputs": [],
   "source": []
  }
 ],
 "metadata": {
  "kernelspec": {
   "display_name": "Python 3",
   "language": "python",
   "name": "python3"
  },
  "language_info": {
   "codemirror_mode": {
    "name": "ipython",
    "version": 3
   },
   "file_extension": ".py",
   "mimetype": "text/x-python",
   "name": "python",
   "nbconvert_exporter": "python",
   "pygments_lexer": "ipython3",
   "version": "3.6.4"
  }
 },
 "nbformat": 4,
 "nbformat_minor": 2
}
